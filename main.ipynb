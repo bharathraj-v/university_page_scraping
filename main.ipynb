{
 "cells": [
  {
   "cell_type": "code",
   "execution_count": 18,
   "metadata": {},
   "outputs": [],
   "source": [
    "from selenium import webdriver\n",
    "from selenium.webdriver.common.by import By\n",
    "from selenium.webdriver.common.keys import Keys\n",
    "from selenium.webdriver.support.ui import WebDriverWait"
   ]
  },
  {
   "cell_type": "code",
   "execution_count": 21,
   "metadata": {},
   "outputs": [
    {
     "name": "stderr",
     "output_type": "stream",
     "text": [
      "/tmp/ipykernel_10433/2537267040.py:5: DeprecationWarning: executable_path has been deprecated, please pass in a Service object\n",
      "  driver = webdriver.Chrome(\"/usr/bin/chromedriver\", chrome_options=chrome_options)\n",
      "/tmp/ipykernel_10433/2537267040.py:5: DeprecationWarning: use options instead of chrome_options\n",
      "  driver = webdriver.Chrome(\"/usr/bin/chromedriver\", chrome_options=chrome_options)\n"
     ]
    }
   ],
   "source": [
    "chrome_options = webdriver.ChromeOptions()\n",
    "prefs = {\"profile.default_content_setting_values.notifications\" : 2}\n",
    "chrome_options.add_experimental_option(\"prefs\",prefs)\n",
    "\n",
    "driver = webdriver.Chrome(\"/usr/bin/chromedriver\", chrome_options=chrome_options)\n",
    "driver.get(\"https://collegedunia.com/usa/college/1090-harvard-university-cambridge\")"
   ]
  },
  {
   "cell_type": "code",
   "execution_count": 97,
   "metadata": {},
   "outputs": [
    {
     "ename": "SyntaxError",
     "evalue": "unterminated string literal (detected at line 6) (2108862303.py, line 6)",
     "output_type": "error",
     "traceback": [
      "\u001b[0;36m  Cell \u001b[0;32mIn [97], line 6\u001b[0;36m\u001b[0m\n\u001b[0;31m    \"\u001b[0m\n\u001b[0m    ^\u001b[0m\n\u001b[0;31mSyntaxError\u001b[0m\u001b[0;31m:\u001b[0m unterminated string literal (detected at line 6)\n"
     ]
    }
   ],
   "source": [
    "university = {\n",
    "    \"name\": \"\",\n",
    "    \"location\": \"\",\n",
    "    \"establishedYear\": \"\",\n",
    "    \"type\": \"\",\n",
    "    \"accreditation\": \"\",\n",
    "    \"ownership\": \"\",\n",
    "    \"rating\": \"\",\n",
    "    \"enrollment\": \"\",\n",
    "    \"coursesDetails\": [],\n",
    "    \"ratings\":{\n",
    "        \"overall\": \"\",\n",
    "        \"academic\": \"\",\n",
    "        \"faculty\": \"\",\n",
    "        \"infrastructure\": \"\",\n",
    "        \"placement\": \"\",\n",
    "        \"accommodation\": \"\",\n",
    "        \"socialLife\": \"\",\n",
    "    },\n",
    "    \"reviews\": [],\n",
    "    \"scholarships\": [],\n",
    "}"
   ]
  },
  {
   "cell_type": "code",
   "execution_count": 61,
   "metadata": {},
   "outputs": [],
   "source": [
    "university[\"name\"] = driver.find_element(By.XPATH, \"//a[@class='text-white bread-crumb-link' and position()=(last())]\").text"
   ]
  },
  {
   "cell_type": "code",
   "execution_count": 62,
   "metadata": {},
   "outputs": [],
   "source": [
    "university[\"location\"] = driver.find_element(By.XPATH, \"//*[contains(text(), 'Location')]/preceding-sibling::*[1]\").text"
   ]
  },
  {
   "cell_type": "code",
   "execution_count": 65,
   "metadata": {},
   "outputs": [
    {
     "data": {
      "text/plain": [
       "'1636'"
      ]
     },
     "execution_count": 65,
     "metadata": {},
     "output_type": "execute_result"
    }
   ],
   "source": [
    "university[\"establishedYear\"] = driver.find_element(By.XPATH, \"//*[contains(text(), 'established year')]/preceding-sibling::*[1]\").text\n",
    "university[\"establishedYear\"] = \"\".join(i for i in university[\"establishedYear\"] if i.isdigit())\n",
    "university[\"establishedYear\"]"
   ]
  },
  {
   "cell_type": "code",
   "execution_count": 96,
   "metadata": {},
   "outputs": [],
   "source": [
    "university[\"type\"] = driver.find_element(By.XPATH, \"*//div[contains(@class, 'extra-info')]\").text.split(\"\\n\")[-1]"
   ]
  }
 ],
 "metadata": {
  "kernelspec": {
   "display_name": "Python 3.10.8 64-bit",
   "language": "python",
   "name": "python3"
  },
  "language_info": {
   "codemirror_mode": {
    "name": "ipython",
    "version": 3
   },
   "file_extension": ".py",
   "mimetype": "text/x-python",
   "name": "python",
   "nbconvert_exporter": "python",
   "pygments_lexer": "ipython3",
   "version": "3.10.8"
  },
  "orig_nbformat": 4,
  "vscode": {
   "interpreter": {
    "hash": "e7370f93d1d0cde622a1f8e1c04877d8463912d04d973331ad4851f04de6915a"
   }
  }
 },
 "nbformat": 4,
 "nbformat_minor": 2
}
